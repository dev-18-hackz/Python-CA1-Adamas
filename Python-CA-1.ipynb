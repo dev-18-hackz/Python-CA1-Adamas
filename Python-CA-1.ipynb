{
 "cells": [
  {
   "cell_type": "markdown",
   "id": "c1c8e9d5-2a8a-42cc-9405-b690e033f2a1",
   "metadata": {},
   "source": [
    "1. Write a program in Python to find the addition & average of three float numbers."
   ]
  },
  {
   "cell_type": "code",
   "execution_count": 1,
   "id": "d70db76c-c6c4-4ff7-8261-72977a083d0b",
   "metadata": {},
   "outputs": [
    {
     "name": "stdout",
     "output_type": "stream",
     "text": [
      "Sum is:  51.57\n",
      "Average is:  17.19\n"
     ]
    }
   ],
   "source": [
    "a = 32.33\n",
    "b = 12.56\n",
    "c = 6.68\n",
    "print(\"Sum is: \",a+b+c)\n",
    "print(\"Average is: \",(a+b+c)/3)"
   ]
  },
  {
   "cell_type": "markdown",
   "id": "ce5cd1f9-84d6-4ed4-bd20-7f303b894a62",
   "metadata": {},
   "source": [
    "2. Write a program in Python to find the volume of a sphere with radius 6cm."
   ]
  },
  {
   "cell_type": "code",
   "execution_count": 2,
   "id": "62cca49a-911b-4d12-ba86-08b9ee3304b2",
   "metadata": {},
   "outputs": [
    {
     "name": "stdout",
     "output_type": "stream",
     "text": [
      "volume of sphere with radius 6cm is  150.72 cm3\n"
     ]
    }
   ],
   "source": [
    "rad = 6\n",
    "vol = (4/3)*3.14*(rad**2)\n",
    "print(\"volume of sphere with radius 6cm is \",vol,\"cm3\")"
   ]
  },
  {
   "cell_type": "markdown",
   "id": "ae8d2e40-c197-42fe-af17-a1e7fafc67c2",
   "metadata": {},
   "source": [
    "3. Write a program in Python to find the area of a circle."
   ]
  },
  {
   "cell_type": "code",
   "execution_count": 3,
   "id": "1e8ce25f-d407-4f3e-bb5c-733098c72ccc",
   "metadata": {},
   "outputs": [
    {
     "name": "stdout",
     "output_type": "stream",
     "text": [
      "Area is  113.04 cm2\n"
     ]
    }
   ],
   "source": [
    "rad = 6\n",
    "area = 3.14*(rad**2)\n",
    "print(\"Area is \",area,'cm2')"
   ]
  },
  {
   "cell_type": "markdown",
   "id": "aa630d76-42eb-4768-b06e-6d2ee5eca069",
   "metadata": {},
   "source": [
    "4. Write a program in Python to compute simple Interest."
   ]
  },
  {
   "cell_type": "code",
   "execution_count": 4,
   "id": "92365c8b-2d4f-43e4-8de9-002176a50626",
   "metadata": {},
   "outputs": [
    {
     "name": "stdout",
     "output_type": "stream",
     "text": [
      "Simple Interest is:  1466.0\n"
     ]
    }
   ],
   "source": [
    "p = 5000\n",
    "r = 14.66\n",
    "t = 2\n",
    "SI = (p*t*r)/100\n",
    "print(\"Simple Interest is: \",SI)"
   ]
  },
  {
   "cell_type": "markdown",
   "id": "2bbca1f6-3326-461b-96d4-a54ce7969144",
   "metadata": {},
   "source": [
    "5. Write a program in Python to swap two numbers without using third variable"
   ]
  },
  {
   "cell_type": "code",
   "execution_count": 5,
   "id": "daa279d4-7eff-4012-a1b6-41c8b6b1e6c2",
   "metadata": {},
   "outputs": [
    {
     "name": "stdout",
     "output_type": "stream",
     "text": [
      "currently, a is 5 and b is 10\n",
      "now, a is 10 and b is 5\n"
     ]
    }
   ],
   "source": [
    "a = 5\n",
    "b = 10\n",
    "print(\"currently, a is\",a,\"and b is\",b)\n",
    "a = a ^ b\n",
    "b = b ^ a\n",
    "a = a^ b\n",
    "print(\"now, a is\",a,\"and b is\",b)"
   ]
  },
  {
   "cell_type": "markdown",
   "id": "0ce68656-31f5-41fe-8763-72a59bf7a968",
   "metadata": {},
   "source": [
    "6. Write a program in Python to convert any temperature from Celcius to Fahrenheit."
   ]
  },
  {
   "cell_type": "code",
   "execution_count": 6,
   "id": "1c08f357-2ae4-4b09-ab71-9c9cae8bd07a",
   "metadata": {},
   "outputs": [
    {
     "name": "stdout",
     "output_type": "stream",
     "text": [
      "34 °C = 93.2 °F\n"
     ]
    }
   ],
   "source": [
    "Celcius = 34\n",
    "Fahrenheit = (9/5) * Celcius + 32\n",
    "print(Celcius,\"°C =\",Fahrenheit,\"°F\")"
   ]
  },
  {
   "cell_type": "markdown",
   "id": "89589738-d7d2-4288-af77-8afb14715f71",
   "metadata": {},
   "source": [
    "7. Write a program in Python to convert a given number of days into days, month, year and week"
   ]
  },
  {
   "cell_type": "code",
   "execution_count": 8,
   "id": "e8ce9bbb-fa18-4beb-bbb7-30c44ed72ba0",
   "metadata": {},
   "outputs": [
    {
     "name": "stdout",
     "output_type": "stream",
     "text": [
      "1 years 0 months 0 weeks 1 days\n"
     ]
    }
   ],
   "source": [
    "days = 366\n",
    "years = days // 365\n",
    "days %=  365\n",
    "months = days // 30\n",
    "days %= 12\n",
    "weeks = days // 7\n",
    "days %= 7\n",
    "print(years,\"years\",months,\"months\",weeks,\"weeks\",days,\"days\")\n"
   ]
  },
  {
   "cell_type": "markdown",
   "id": "a9c216ba-4490-4a01-a3be-7a58375eb88c",
   "metadata": {},
   "source": [
    "8. Write a Python Program to find the gravitational force acting between two objects.\n",
    "\n",
    "                                                [G=N*(m1*m2)/d^2]"
   ]
  },
  {
   "cell_type": "code",
   "execution_count": 9,
   "id": "e5f6517d-8a6d-4247-b430-f02e909b2c8e",
   "metadata": {},
   "outputs": [
    {
     "name": "stdout",
     "output_type": "stream",
     "text": [
      "Gravitational Force is 1.0005e-09\n"
     ]
    }
   ],
   "source": [
    "mass1 = 50\n",
    "mass2 = 30\n",
    "distance = 10\n",
    "GForce = (6.67 * (10 ** (-11)) * mass1 * mass2)/(distance ** 2)\n",
    "print(\"Gravitational Force is\", GForce)"
   ]
  },
  {
   "cell_type": "raw",
   "id": "1bee5dc1-e7b9-4f5c-9703-e9849d356db5",
   "metadata": {},
   "source": [
    "9. Write a program in Python to find given no is Even or Odd.  "
   ]
  },
  {
   "cell_type": "code",
   "execution_count": 16,
   "id": "c1f4d549-5730-4180-9d52-5f2fd5d1d562",
   "metadata": {},
   "outputs": [
    {
     "name": "stdout",
     "output_type": "stream",
     "text": [
      "5 is odd\n"
     ]
    }
   ],
   "source": [
    "num = 5\n",
    "if(num % 2 == 0):\n",
    "    print(num,\"is even\")\n",
    "else:\n",
    "    print(num,\"is odd\")"
   ]
  },
  {
   "cell_type": "markdown",
   "id": "97353014-9424-4b86-b137-191b76f9b5ec",
   "metadata": {},
   "source": [
    "10. Take input from user if it is greater than 15 print two times of difference if it’s less than 15 print four times of difference. "
   ]
  },
  {
   "cell_type": "code",
   "execution_count": 17,
   "id": "f0ab0de0-fdf9-4dab-aa54-d14569dc10bf",
   "metadata": {},
   "outputs": [
    {
     "name": "stdin",
     "output_type": "stream",
     "text": [
      "Enter number:  20\n"
     ]
    },
    {
     "name": "stdout",
     "output_type": "stream",
     "text": [
      "Output is 10\n"
     ]
    }
   ],
   "source": [
    "num = int(input(\"Enter number: \"))\n",
    "if(num > 15):\n",
    "    print(\"Output is\",2*(num - 15))\n",
    "else:\n",
    "    print(\"Output is\",4*(15-num))"
   ]
  },
  {
   "cell_type": "markdown",
   "id": "16bc5272-a406-4bfa-ba14-ca1ffdf0d75e",
   "metadata": {},
   "source": [
    "11. Write a program in Python to find largest among three numbers. "
   ]
  },
  {
   "cell_type": "code",
   "execution_count": 18,
   "id": "188e31f9-9677-4011-8c8d-48f1692777dc",
   "metadata": {},
   "outputs": [
    {
     "name": "stdout",
     "output_type": "stream",
     "text": [
      "c is largest\n"
     ]
    }
   ],
   "source": [
    "a,b,c = 10,5,15\n",
    "if(a > b):\n",
    "    if(a > c):\n",
    "        print(\"a is largest\")\n",
    "    else:\n",
    "        print(\"c is largest\")\n",
    "elif(b>c):\n",
    "    print(\"b is largest\")\n",
    "else:\n",
    "    print(\"c is largest\")"
   ]
  },
  {
   "cell_type": "markdown",
   "id": "7fb0ed9b-15bd-4ede-adb9-04f94eefd85c",
   "metadata": {},
   "source": [
    "12. Write a program in Python to check a triangle is equilateral,scalene or isosclees.. "
   ]
  },
  {
   "cell_type": "code",
   "execution_count": 19,
   "id": "b377f0d6-9907-40f4-b5e5-59ae28a8339c",
   "metadata": {},
   "outputs": [
    {
     "name": "stdout",
     "output_type": "stream",
     "text": [
      "Isoscles\n"
     ]
    }
   ],
   "source": [
    "a = 5\n",
    "b = 10\n",
    "c = 5\n",
    "if(a==b and b==c):\n",
    "    print(\"Equilateral\")\n",
    "elif(a==b or b==c or c==a):\n",
    "    print(\"Isoscles\")\n",
    "else:\n",
    "    print(\"Scalene\")"
   ]
  },
  {
   "cell_type": "markdown",
   "id": "61448671-69f1-482e-b952-177c26a8e4a1",
   "metadata": {},
   "source": [
    "13. Write a program in Python to check a given year is leapyear or not. "
   ]
  },
  {
   "cell_type": "code",
   "execution_count": 22,
   "id": "0c9f27db-7902-4b00-9ce6-0c76d6e3598b",
   "metadata": {},
   "outputs": [
    {
     "name": "stdout",
     "output_type": "stream",
     "text": [
      "Not Leap Year\n"
     ]
    }
   ],
   "source": [
    "year = 1402\n",
    "if(year % 400 == 0):\n",
    "    print(\"Leap Year\")\n",
    "elif(year % 100 != 0):\n",
    "    print(\"Not Leap Year\")\n",
    "elif(year % 4 == 0):\n",
    "    print(\"Leap Year\")\n",
    "else:\n",
    "    print(\"Not Leap Year\")"
   ]
  },
  {
   "cell_type": "markdown",
   "id": "844d1028-90e4-4a55-8631-fccf78b8d19c",
   "metadata": {},
   "source": [
    "14. Take marks of a student of four different subject find average depending on average find Grade(if marks >=75 i.e,’A’ or >=60 but <=75 i.e,’B’ or >=40 but <=60 i.e,’C’ or <=40 i.e,’D’). "
   ]
  },
  {
   "cell_type": "code",
   "execution_count": 25,
   "id": "6533f2ea-a1c4-4e0a-896b-e0651d0dbbd6",
   "metadata": {},
   "outputs": [
    {
     "name": "stdin",
     "output_type": "stream",
     "text": [
      "Enter marks for sub1:  67\n",
      "Enter marks for sub2:  65\n",
      "Enter marks for sub3:  78\n",
      "Enter marks for sub4:  89\n"
     ]
    },
    {
     "name": "stdout",
     "output_type": "stream",
     "text": [
      "B\n"
     ]
    }
   ],
   "source": [
    "sub1 = int(input(\"Enter marks for sub1: \"))\n",
    "sub2 = int(input(\"Enter marks for sub2: \"))\n",
    "sub3 = int(input(\"Enter marks for sub3: \"))\n",
    "sub4 = int(input(\"Enter marks for sub4: \"))\n",
    "averg = (sub1+sub2+sub3+sub4)/4\n",
    "if(averg >= 75):\n",
    "    print(\"A\")\n",
    "elif(averg >= 60):\n",
    "    print(\"B\")\n",
    "elif(averg >= 40):\n",
    "    print(\"C\")\n",
    "else:\n",
    "    print(\"D\")"
   ]
  },
  {
   "cell_type": "markdown",
   "id": "90b61986-fb7e-45cc-abb4-5dc2c4f0263a",
   "metadata": {},
   "source": [
    "15. Write a program in Python to implement a simple calculator "
   ]
  },
  {
   "cell_type": "code",
   "execution_count": 16,
   "id": "c4376b78-8be1-4b8e-b519-a85b04bf33f4",
   "metadata": {},
   "outputs": [
    {
     "name": "stdin",
     "output_type": "stream",
     "text": [
      "Enter a:  10\n",
      "Enter b:  6\n",
      "Enter operator:  +\n"
     ]
    },
    {
     "name": "stdout",
     "output_type": "stream",
     "text": [
      "16\n"
     ]
    }
   ],
   "source": [
    "a = int(input(\"Enter a: \"))\n",
    "b = int(input(\"Enter b: \"))\n",
    "o = input(\"Enter operator: \")\n",
    "if(o == \"+\"):\n",
    "    print(a+b)\n",
    "elif(o == \"-\"):\n",
    "    print(a-b)\n",
    "elif(o == \"*\"):\n",
    "    print(a*b)\n",
    "elif(o == \"/\"):\n",
    "    print(a/b)"
   ]
  },
  {
   "cell_type": "markdown",
   "id": "b43a3d5e-84b8-4349-9c86-45a24f2954fe",
   "metadata": {},
   "source": [
    "16. Write a program in Python to find the roots of Quadratic equation. ram to perform Linear search. "
   ]
  },
  {
   "cell_type": "code",
   "execution_count": 1,
   "id": "b8ec36ff-7c58-4f59-bfde-b4cdbaed1cb8",
   "metadata": {},
   "outputs": [
    {
     "name": "stdin",
     "output_type": "stream",
     "text": [
      "Enter coefficient a:  6.0\n",
      "Enter coefficient b:  12.0\n",
      "Enter coefficient c:  2.0\n"
     ]
    },
    {
     "name": "stdout",
     "output_type": "stream",
     "text": [
      "Roots are real and different: -0.18350341907227405, -1.816496580927726\n"
     ]
    }
   ],
   "source": [
    "import math\n",
    "\n",
    "# Function to find the roots of a quadratic equation\n",
    "def find_roots(a, b, c):\n",
    "    # Calculate the discriminant\n",
    "    discriminant = b**2 - 4*a*c\n",
    "    \n",
    "    # Check if roots are real or complex\n",
    "    if discriminant > 0:\n",
    "        root1 = (-b + math.sqrt(discriminant)) / (2 * a)\n",
    "        root2 = (-b - math.sqrt(discriminant)) / (2 * a)\n",
    "        return f\"Roots are real and different: {root1}, {root2}\"\n",
    "    elif discriminant == 0:\n",
    "        root = -b / (2 * a)\n",
    "        return f\"Roots are real and the same: {root}\"\n",
    "    else:\n",
    "        real_part = -b / (2 * a)\n",
    "        imaginary_part = math.sqrt(-discriminant) / (2 * a)\n",
    "        return f\"Roots are complex: {real_part} ± {imaginary_part}i\"\n",
    "\n",
    "# Example usage:\n",
    "a = float(input(\"Enter coefficient a: \"))\n",
    "b = float(input(\"Enter coefficient b: \"))\n",
    "c = float(input(\"Enter coefficient c: \"))\n",
    "print(find_roots(a, b, c))"
   ]
  },
  {
   "cell_type": "markdown",
   "id": "ebc2f5e9-83b1-4b0e-9955-686ce5b56993",
   "metadata": {},
   "source": [
    "17. Write a program in Python to print 1 to n. "
   ]
  },
  {
   "cell_type": "code",
   "execution_count": 3,
   "id": "2a6ba09e-9dc3-430c-822e-a53004b29868",
   "metadata": {},
   "outputs": [
    {
     "name": "stdout",
     "output_type": "stream",
     "text": [
      "1 2 3 4 5 6 7 8 "
     ]
    }
   ],
   "source": [
    "n = 8\n",
    "for i in range(1,n+1):\n",
    "    print(i,end=' ')"
   ]
  },
  {
   "cell_type": "markdown",
   "id": "97b64cad-eba0-4ca3-9a79-639f6750980a",
   "metadata": {},
   "source": [
    "18. Write a program in Python to print sum of natural number. "
   ]
  },
  {
   "cell_type": "code",
   "execution_count": 4,
   "id": "4c107440-2b00-45f8-b333-8b434278219f",
   "metadata": {},
   "outputs": [
    {
     "name": "stdout",
     "output_type": "stream",
     "text": [
      "sum is:  55\n"
     ]
    }
   ],
   "source": [
    "n = 10\n",
    "sum = 0\n",
    "for i in range(1,n+1):\n",
    "    sum += i\n",
    "print(\"sum is: \",sum)"
   ]
  },
  {
   "cell_type": "markdown",
   "id": "c9431b1d-9494-45e4-97af-3fccbfccc88a",
   "metadata": {},
   "source": [
    "19. Write a program in Python to print Sum of Digit. "
   ]
  },
  {
   "cell_type": "code",
   "execution_count": 5,
   "id": "0122953e-0741-4d24-997a-93be9e2b66a8",
   "metadata": {},
   "outputs": [
    {
     "name": "stdout",
     "output_type": "stream",
     "text": [
      "Sum of digit is:  21\n"
     ]
    }
   ],
   "source": [
    "n = 123456\n",
    "ns = str(n)\n",
    "sum = 0\n",
    "for i in ns:\n",
    "    sum += int(i)\n",
    "print(\"Sum of digit is: \",sum)"
   ]
  },
  {
   "cell_type": "markdown",
   "id": "ef6099ab-a669-4d03-a68b-0870563278b4",
   "metadata": {},
   "source": [
    "20. Write a program in Python to print Factors of a Number. "
   ]
  },
  {
   "cell_type": "code",
   "execution_count": 7,
   "id": "8ce7eaa7-1f14-4e43-a23a-661aca478b55",
   "metadata": {},
   "outputs": [
    {
     "name": "stdout",
     "output_type": "stream",
     "text": [
      "1 2 5 "
     ]
    }
   ],
   "source": [
    "n = 10\n",
    "for i in range(1, n//2 +1):\n",
    "    if(n % i == 0):\n",
    "        print(i, end=' ')"
   ]
  },
  {
   "cell_type": "markdown",
   "id": "ac2c5253-b1ac-4f13-abfa-1173880b558a",
   "metadata": {},
   "source": [
    "21. Write a program in Python to print Reverse of a Number. "
   ]
  },
  {
   "cell_type": "code",
   "execution_count": 9,
   "id": "b0a537a4-b6d7-42e3-beaa-ea879ac46945",
   "metadata": {},
   "outputs": [
    {
     "name": "stdout",
     "output_type": "stream",
     "text": [
      "Reversed number is:  321\n"
     ]
    }
   ],
   "source": [
    "n = 123\n",
    "rev = 0\n",
    "while(n != 0):\n",
    "    r = n % 10\n",
    "    rev = 10*rev + r\n",
    "    n //= 10\n",
    "print(\"Reversed number is: \",rev)"
   ]
  },
  {
   "cell_type": "markdown",
   "id": "e6f49ea9-9051-4838-bb92-25eba7fa2d78",
   "metadata": {},
   "source": [
    "22. Write a Python program to find Factorial of a given number. "
   ]
  },
  {
   "cell_type": "code",
   "execution_count": 10,
   "id": "4ec79822-9c9e-4ea8-896f-4c4eb61d60f4",
   "metadata": {},
   "outputs": [
    {
     "name": "stdout",
     "output_type": "stream",
     "text": [
      "Factorial is:  3628800\n"
     ]
    }
   ],
   "source": [
    "n = 10\n",
    "fact = 1\n",
    "while(n > 0):\n",
    "    fact *= n\n",
    "    n -= 1\n",
    "print(\"Factorial is: \", fact)"
   ]
  },
  {
   "cell_type": "markdown",
   "id": "4a43b14f-c35b-432b-acd2-c4f6367f78cb",
   "metadata": {},
   "source": [
    "23. Write a Python program to check a number is palindrome or not. "
   ]
  },
  {
   "cell_type": "code",
   "execution_count": 11,
   "id": "8d86bfc6-f089-4639-8219-0ba2568e666d",
   "metadata": {},
   "outputs": [
    {
     "name": "stdout",
     "output_type": "stream",
     "text": [
      "True\n"
     ]
    }
   ],
   "source": [
    "n = 121\n",
    "rev = 0\n",
    "m = n\n",
    "while(n != 0):\n",
    "    r = n % 10\n",
    "    rev = 10*rev + r\n",
    "    n //= 10\n",
    "print(m == rev)"
   ]
  },
  {
   "cell_type": "markdown",
   "id": "c0a230b6-0489-43f0-98d3-3b30091cdeb1",
   "metadata": {},
   "source": [
    "24. Write a Python program to check a number is prime or not. "
   ]
  },
  {
   "cell_type": "code",
   "execution_count": 12,
   "id": "b49b961f-3e31-41b1-835a-bb943c43411e",
   "metadata": {},
   "outputs": [
    {
     "name": "stdout",
     "output_type": "stream",
     "text": [
      "True\n"
     ]
    }
   ],
   "source": [
    "n = 5\n",
    "count = 0\n",
    "for i in range(2, n//2):\n",
    "    if(n % i == 0):\n",
    "        count += 1\n",
    "print(count == 0)"
   ]
  },
  {
   "cell_type": "markdown",
   "id": "ec2db69c-58b6-4dfc-ba45-e66b85ff10fc",
   "metadata": {},
   "source": [
    "25. Write a Python program to check a number is Armstrong or not. "
   ]
  },
  {
   "cell_type": "code",
   "execution_count": 2,
   "id": "4923fba5-199a-4717-aab2-0adf8e6c097b",
   "metadata": {},
   "outputs": [
    {
     "name": "stdout",
     "output_type": "stream",
     "text": [
      "True\n"
     ]
    }
   ],
   "source": [
    "n = 153\n",
    "l = len(str(n))\n",
    "s = str(n)\n",
    "arm = 0\n",
    "for i in s:\n",
    "    arm += int(i)**l\n",
    "print(arm == n)"
   ]
  },
  {
   "cell_type": "markdown",
   "id": "9d75ef95-4a89-47be-99c1-5c20e9a9aced",
   "metadata": {},
   "source": [
    "26. Write a Python program to print Fibonacci series of n term "
   ]
  },
  {
   "cell_type": "code",
   "execution_count": 3,
   "id": "a11c6343-877c-4bb3-b8cf-d6f3a1a7f2ac",
   "metadata": {},
   "outputs": [
    {
     "name": "stdout",
     "output_type": "stream",
     "text": [
      "1 2 3 5 8 13 21 34 55 89 \n"
     ]
    }
   ],
   "source": [
    "n = 10\n",
    "num1 = 0\n",
    "num2 = 1\n",
    "next_number = num2  \n",
    "count = 1\n",
    "\n",
    "while count <= n:\n",
    "    print(next_number, end=\" \")\n",
    "    count += 1\n",
    "    num1, num2 = num2, next_number\n",
    "    next_number = num1 + num2\n",
    "print()"
   ]
  },
  {
   "cell_type": "markdown",
   "id": "a334210a-7aa1-4b5b-9558-3f303bf135a0",
   "metadata": {},
   "source": [
    "27. Write a Python program to implement multiplication table. "
   ]
  },
  {
   "cell_type": "code",
   "execution_count": 4,
   "id": "c0a18133-85ba-4044-9db8-f3a92a35c22a",
   "metadata": {},
   "outputs": [
    {
     "name": "stdout",
     "output_type": "stream",
     "text": [
      "5 * 1 = 5\n",
      "5 * 2 = 10\n",
      "5 * 3 = 15\n",
      "5 * 4 = 20\n",
      "5 * 5 = 25\n",
      "5 * 6 = 30\n",
      "5 * 7 = 35\n",
      "5 * 8 = 40\n",
      "5 * 9 = 45\n",
      "5 * 10 = 50\n"
     ]
    }
   ],
   "source": [
    "n = 5\n",
    "for i in range(1,11):\n",
    "    print(n,'*',i,'=',n*i)"
   ]
  },
  {
   "cell_type": "markdown",
   "id": "d30373d2-7c18-4cf6-a6df-3f2bcc007a50",
   "metadata": {},
   "source": [
    "28. Write a Python program to take a input from user in a list and print it. "
   ]
  },
  {
   "cell_type": "code",
   "execution_count": 6,
   "id": "7393acf5-59f1-4ba4-b042-29564c8412a6",
   "metadata": {},
   "outputs": [
    {
     "name": "stdin",
     "output_type": "stream",
     "text": [
      "Enter size:  5\n",
      "Enter value 2\n",
      "Enter value 5\n",
      "Enter value 7\n",
      "Enter value 8\n",
      "Enter value 3\n"
     ]
    },
    {
     "name": "stdout",
     "output_type": "stream",
     "text": [
      "[2, 5, 7, 8, 3]\n"
     ]
    }
   ],
   "source": [
    "ar =[]\n",
    "n = int(input(\"Enter size: \"))\n",
    "for i in range(n):\n",
    "    a = int(input(\"Enter value\"))\n",
    "    ar.append(a)\n",
    "print(ar)"
   ]
  },
  {
   "cell_type": "markdown",
   "id": "987dee81-893c-4eef-aaa8-1d2d19041837",
   "metadata": {},
   "source": [
    "29. Write a Python program to find the average of n numbers using list. "
   ]
  },
  {
   "cell_type": "code",
   "execution_count": 7,
   "id": "69cffff8-5470-4ee0-8323-495ac65a3325",
   "metadata": {},
   "outputs": [
    {
     "name": "stdout",
     "output_type": "stream",
     "text": [
      "5.4\n"
     ]
    }
   ],
   "source": [
    "ar = [8,5,8,4,2]\n",
    "avg = sum(ar)/len(ar)\n",
    "print(avg)"
   ]
  },
  {
   "cell_type": "markdown",
   "id": "5e257617-d6a4-4c19-a9a3-915c00bf6e37",
   "metadata": {},
   "source": [
    "30. Write a Python program to find the largest element in the list. "
   ]
  },
  {
   "cell_type": "code",
   "execution_count": 8,
   "id": "ad4cdd99-18bb-481e-ac6e-4aea5a8feab6",
   "metadata": {},
   "outputs": [
    {
     "name": "stdout",
     "output_type": "stream",
     "text": [
      "9\n"
     ]
    }
   ],
   "source": [
    "ar = [7,8,3,9,2]\n",
    "print(max(ar))"
   ]
  },
  {
   "cell_type": "markdown",
   "id": "46786a71-85f8-4b2e-913c-3299c06ae9a4",
   "metadata": {},
   "source": [
    "31. Write a Python program to perform Linear search. "
   ]
  },
  {
   "cell_type": "code",
   "execution_count": 9,
   "id": "853f2bf2-4d23-412a-9b4a-3fe1c92da00c",
   "metadata": {},
   "outputs": [
    {
     "name": "stdin",
     "output_type": "stream",
     "text": [
      "Enter mumber to search:  9\n"
     ]
    },
    {
     "name": "stdout",
     "output_type": "stream",
     "text": [
      "True\n"
     ]
    }
   ],
   "source": [
    "ar = [5,9,3,1,6]\n",
    "n = int(input(\"Enter mumber to search: \"))\n",
    "print(n in ar)"
   ]
  },
  {
   "cell_type": "markdown",
   "id": "2da8a9aa-b507-4619-a2fc-2a6608e12cc9",
   "metadata": {},
   "source": [
    "32. Write a program that accepts sequence of lines as input and prints the lines after making all characters in the sentence capitalized. \r\n",
    "\r\n",
    "Suppose the following input is supplied to the program: \r\n",
    "\r\n",
    "Hello world \r\n",
    "\r\n",
    "Practice makes perfect \r\n",
    "\r\n",
    "Then, the output should be: \r\n",
    "\r\n",
    "HELLO WORLD \r\n",
    "\r\n",
    "PRACTICE MA\r\n",
    "D 100 \r\n",
    "\r\n",
    "Then, the output should be: \r\n",
    "\r\n",
    "500 "
   ]
  },
  {
   "cell_type": "code",
   "execution_count": 11,
   "id": "58fea6e5-b99a-47c9-9156-0eeae8b41d2b",
   "metadata": {},
   "outputs": [
    {
     "name": "stdout",
     "output_type": "stream",
     "text": [
      "HELLO WORLD\n",
      "PRACTICE MAKES PERFECT\n"
     ]
    }
   ],
   "source": [
    "s1 = 'Hello world'\n",
    "s2 = 'Practice makes perfect'\n",
    "print(s1.upper())\n",
    "print(s2.upper())"
   ]
  },
  {
   "cell_type": "markdown",
   "id": "b9fb300a-ad98-4f68-a708-986a53948006",
   "metadata": {},
   "source": [
    "33. Write a program which accepts a sequence of comma‐separated numbers from console and generate a list and a tuple which contains every number. \n",
    "\n",
    "Suppose the following input is supplied to the program: \n",
    "\n",
    "34,67,55,33,12,98 \n",
    "\n",
    "Then, the output should be: \n",
    "\n",
    "['34', '67', '55', '33', '12', '98'] \n",
    "\n",
    "('34', '67', '55', '33', '12', '98') "
   ]
  },
  {
   "cell_type": "code",
   "execution_count": 14,
   "id": "6027e615-9ea9-4105-96da-32337abf1e6c",
   "metadata": {},
   "outputs": [
    {
     "ename": "SyntaxError",
     "evalue": "unterminated string literal (detected at line 2) (1866182568.py, line 2)",
     "output_type": "error",
     "traceback": [
      "\u001b[1;36m  Cell \u001b[1;32mIn[14], line 2\u001b[1;36m\u001b[0m\n\u001b[1;33m    number_list = numbers.sp\", \"('tuple\u001b[0m\n\u001b[1;37m                                 ^\u001b[0m\n\u001b[1;31mSyntaxError\u001b[0m\u001b[1;31m:\u001b[0m unterminated string literal (detected at line 2)\n"
     ]
    }
   ],
   "source": [
    "\n",
    "numbers = input(\"Enter comma-separated numbers: \")or\r\n",
    "number_list = numbers.sp\",\"('tuple\r\n",
    "number_tuple = tuple(numbernd tuple\r\n",
    "print(\"List:\", number_list)\r\n",
    "print(\"Tuple:\", nuber_tuple)\r\n"
   ]
  },
  {
   "cell_type": "markdown",
   "id": "1827bd84-eb2c-4440-a9ba-3049b786ef03",
   "metadata": {},
   "source": [
    "34. Write a program that computes the net amount of a bank account based a transaction log from console input. The transaction log format is shown as following: \n",
    "\n",
    "D 100 \n",
    "\n",
    "W 200 \n",
    "\n",
    "¡ \n",
    "\n",
    "D means deposit while W means withdrawal. \n",
    "\n",
    "Suppose the following input is supplied to the program: \n",
    "\n",
    "D 300 \n",
    "\n",
    "D 300 \n",
    "\n",
    "W 200 \n",
    "\n",
    "D 100 \n",
    "\n",
    "Then, the output should be: \n",
    "\n",
    "500 "
   ]
  },
  {
   "cell_type": "code",
   "execution_count": 15,
   "id": "ca2a5b3c-f476-40dc-84c7-e09f246bbda0",
   "metadata": {},
   "outputs": [
    {
     "name": "stdin",
     "output_type": "stream",
     "text": [
      "Enter operation:  D 5000 W 200 W 1000\n"
     ]
    },
    {
     "name": "stdout",
     "output_type": "stream",
     "text": [
      "Amount:  3800\n"
     ]
    }
   ],
   "source": [
    "s = input(\"Enter operation: \")\n",
    "l = s.split()\n",
    "i = 0\n",
    "a = 0\n",
    "while(i < len(l)):\n",
    "    if(l[i] == \"W\"):\n",
    "        a -= int(l[i+1])\n",
    "        i += 2\n",
    "    elif(l[i] ==\"D\"):\n",
    "        a += int(l[i+1])\n",
    "        i +=2\n",
    "    else:\n",
    "        break\n",
    "print(\"Amount: \",a)\n",
    "        "
   ]
  },
  {
   "cell_type": "code",
   "execution_count": null,
   "id": "fc7bef9f-d6d1-458c-95bd-10d7c3ce7685",
   "metadata": {},
   "outputs": [],
   "source": []
  }
 ],
 "metadata": {
  "kernelspec": {
   "display_name": "Python 3 (ipykernel)",
   "language": "python",
   "name": "python3"
  },
  "language_info": {
   "codemirror_mode": {
    "name": "ipython",
    "version": 3
   },
   "file_extension": ".py",
   "mimetype": "text/x-python",
   "name": "python",
   "nbconvert_exporter": "python",
   "pygments_lexer": "ipython3",
   "version": "3.11.7"
  }
 },
 "nbformat": 4,
 "nbformat_minor": 5
}
